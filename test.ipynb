{
 "cells": [
  {
   "cell_type": "code",
   "execution_count": 1,
   "metadata": {},
   "outputs": [
    {
     "name": "stderr",
     "output_type": "stream",
     "text": [
      "Using TensorFlow backend.\n"
     ]
    }
   ],
   "source": [
    "from keras.models import Sequential\n",
    "from keras.layers import Conv2D, ZeroPadding2D, Activation, Input, concatenate\n",
    "from keras.models import Model\n",
    "from keras.layers.normalization import BatchNormalization\n",
    "from keras.layers.pooling import MaxPooling2D, AveragePooling2D\n",
    "from keras.layers.merge import Concatenate\n",
    "from keras.layers.core import Lambda, Flatten, Dense\n",
    "from keras.initializers import glorot_uniform\n",
    "from keras.engine.topology import Layer\n",
    "from keras import backend as K\n",
    "K.set_image_data_format('channels_first')\n",
    "import cv2\n",
    "import os\n",
    "import numpy as np\n",
    "from numpy import genfromtxt\n",
    "import pandas as pd\n",
    "import tensorflow as tf\n",
    "from fr_utils import *\n",
    "from inception_blocks_v2 import *\n",
    "import imutils\n",
    "#from FaceDetector import *\n",
    "from keras.models import model_from_json\n",
    "import keras\n",
    "from data_generator import *\n",
    "from keras.callbacks import EarlyStopping, ModelCheckpoint, TensorBoard\n",
    "import time\n",
    "from parameters import *"
   ]
  },
  {
   "cell_type": "code",
   "execution_count": 23,
   "metadata": {},
   "outputs": [],
   "source": [
    "def triplet_loss(y_true, y_pred, alpha = ALPHA):\n",
    "    anchor, positive, negative = y_pred[0], y_pred[1], y_pred[2]\n",
    "    pos_dist = tf.reduce_sum(tf.square(tf.subtract(anchor, positive)), axis=-1)\n",
    "    neg_dist = tf.reduce_sum(tf.square(tf.subtract(anchor, negative)), axis=-1)\n",
    "    basic_loss = tf.add(tf.subtract(pos_dist, neg_dist), alpha)\n",
    "    loss = tf.reduce_sum(tf.maximum(basic_loss, 0.0))\n",
    "    return loss"
   ]
  },
  {
   "cell_type": "code",
   "execution_count": 24,
   "metadata": {
    "scrolled": true
   },
   "outputs": [
    {
     "name": "stdout",
     "output_type": "stream",
     "text": [
      "Pre trained model found\n"
     ]
    }
   ],
   "source": [
    "best_model_path=None\n",
    "if os.path.exists(\"./bestmodel.txt\"):\n",
    "    with open('bestmodel.txt', 'r') as file:\n",
    "        best_model_path = file.read()\n",
    "    \n",
    "if best_model_path != None and os.path.exists(best_model_path):\n",
    "    print(\"Pre trained model found\")\n",
    "    FRmodel = keras.models.load_model(best_model_path, custom_objects={'triplet_loss': triplet_loss})\n",
    "    \n",
    "else:\n",
    "    print('Saved model not found, loading untrained FaceNet')\n",
    "    FRmodel = faceRecoModel(input_shape=(3, IMAGE_SIZE, IMAGE_SIZE))\n",
    "    load_weights_from_FaceNet(FRmodel)\n",
    "\n",
    "for layer in FRmodel.layers[0: LAYERS_TO_FREEZE]:\n",
    "    layer.trainable  =  False"
   ]
  },
  {
   "cell_type": "code",
   "execution_count": 25,
   "metadata": {},
   "outputs": [],
   "source": [
    "input_shape=(3, IMAGE_SIZE, IMAGE_SIZE)\n",
    "A = Input(shape=input_shape, name = 'anchor')\n",
    "P = Input(shape=input_shape, name = 'anchorPositive')\n",
    "N = Input(shape=input_shape, name = 'anchorNegative')"
   ]
  },
  {
   "cell_type": "code",
   "execution_count": 26,
   "metadata": {},
   "outputs": [],
   "source": [
    "enc_A = FRmodel(A)\n",
    "enc_P = FRmodel(P)\n",
    "enc_N = FRmodel(N)"
   ]
  },
  {
   "cell_type": "code",
   "execution_count": 27,
   "metadata": {},
   "outputs": [],
   "source": [
    "# Callbacks\n",
    "early_stopping = EarlyStopping(monitor='loss', patience=5, min_delta=0.00005)\n",
    "STAMP = 'facenet_%d'%(1) \n",
    "checkpoint_dir = './' + 'checkpoints/' + str(int(time.time())) + '/'\n",
    "\n",
    "if not os.path.exists(checkpoint_dir):\n",
    "    os.makedirs(checkpoint_dir)"
   ]
  },
  {
   "cell_type": "code",
   "execution_count": 28,
   "metadata": {},
   "outputs": [],
   "source": [
    "bst_model_path = checkpoint_dir + STAMP + '.h5'\n",
    "tensorboard = TensorBoard(log_dir=checkpoint_dir + \"logs/{}\".format(time.time()))"
   ]
  },
  {
   "cell_type": "code",
   "execution_count": 30,
   "metadata": {},
   "outputs": [],
   "source": [
    "# Model\n",
    "tripletModel = Model(inputs=[A, P, N], outputs=[enc_A, enc_P, enc_N])\n",
    "tripletModel.compile(optimizer = 'adam', loss = triplet_loss)"
   ]
  },
  {
   "cell_type": "code",
   "execution_count": 31,
   "metadata": {
    "scrolled": true
   },
   "outputs": [
    {
     "name": "stdout",
     "output_type": "stream",
     "text": [
      "Epoch 1/10\n",
      "5/5 [==============================] - 74s 15s/step - loss: 1.9652 - FaceRecoModel_loss: 0.6053\n",
      "Epoch 2/10\n",
      "5/5 [==============================] - 37s 7s/step - loss: 1.5239 - FaceRecoModel_loss: 0.5710\n",
      "Epoch 3/10\n",
      "5/5 [==============================] - 36s 7s/step - loss: 1.3469 - FaceRecoModel_loss: 0.4926\n",
      "Epoch 4/10\n",
      "5/5 [==============================] - 34s 7s/step - loss: 1.4286 - FaceRecoModel_loss: 0.5144\n",
      "Epoch 5/10\n",
      "5/5 [==============================] - 41s 8s/step - loss: 2.0217 - FaceRecoModel_loss: 0.5114\n",
      "Epoch 6/10\n",
      "5/5 [==============================] - 48s 10s/step - loss: 1.3373 - FaceRecoModel_loss: 0.5471\n",
      "Epoch 7/10\n",
      "5/5 [==============================] - 30s 6s/step - loss: 1.4901 - FaceRecoModel_loss: 0.6130\n",
      "Epoch 8/10\n",
      "5/5 [==============================] - 30s 6s/step - loss: 1.8674 - FaceRecoModel_loss: 0.6873\n",
      "Epoch 9/10\n",
      "5/5 [==============================] - 30s 6s/step - loss: 1.5756 - FaceRecoModel_loss: 0.5022\n",
      "Epoch 10/10\n",
      "5/5 [==============================] - 29s 6s/step - loss: 1.4976 - FaceRecoModel_loss: 0.5205\n"
     ]
    },
    {
     "data": {
      "text/plain": [
       "<keras.callbacks.History at 0x1c9fe2c5f8>"
      ]
     },
     "execution_count": 31,
     "metadata": {},
     "output_type": "execute_result"
    }
   ],
   "source": [
    "gen = batch_generator(BATCH_SIZE)\n",
    "tripletModel.fit_generator(gen, epochs=NUM_EPOCHS,steps_per_epoch=STEPS_PER_EPOCH,callbacks=[early_stopping, tensorboard])"
   ]
  }
 ],
 "metadata": {
  "kernelspec": {
   "display_name": "Python 3",
   "language": "python",
   "name": "python3"
  },
  "language_info": {
   "codemirror_mode": {
    "name": "ipython",
    "version": 3
   },
   "file_extension": ".py",
   "mimetype": "text/x-python",
   "name": "python",
   "nbconvert_exporter": "python",
   "pygments_lexer": "ipython3",
   "version": "3.7.3"
  }
 },
 "nbformat": 4,
 "nbformat_minor": 2
}
